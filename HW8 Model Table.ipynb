{
 "cells": [
  {
   "cell_type": "markdown",
   "metadata": {},
   "source": [
    "### LR with 30 variables"
   ]
  },
  {
   "cell_type": "code",
   "execution_count": 3,
   "metadata": {
    "ExecuteTime": {
     "end_time": "2021-03-25T15:04:55.788452Z",
     "start_time": "2021-03-25T15:04:55.144363Z"
    }
   },
   "outputs": [],
   "source": [
    "from sklearn.model_selection import train_test_split\n",
    "from sklearn.linear_model import LogisticRegression\n",
    "import pandas as pd\n",
    "import numpy as np"
   ]
  },
  {
   "cell_type": "code",
   "execution_count": 4,
   "metadata": {
    "ExecuteTime": {
     "end_time": "2021-03-25T15:05:00.533745Z",
     "start_time": "2021-03-25T15:04:57.150182Z"
    }
   },
   "outputs": [],
   "source": [
    "df = pd.read_csv('top 30 variables.csv',index_col=0)"
   ]
  },
  {
   "cell_type": "code",
   "execution_count": 96,
   "metadata": {
    "ExecuteTime": {
     "end_time": "2021-03-18T09:05:23.196362Z",
     "start_time": "2021-03-18T09:05:22.845816Z"
    }
   },
   "outputs": [],
   "source": [
    "X = df.drop(columns='fraud_label',axis=1)"
   ]
  },
  {
   "cell_type": "code",
   "execution_count": 97,
   "metadata": {
    "ExecuteTime": {
     "end_time": "2021-03-18T09:05:23.214864Z",
     "start_time": "2021-03-18T09:05:23.200889Z"
    }
   },
   "outputs": [],
   "source": [
    "y = df[['fraud_label']]"
   ]
  },
  {
   "cell_type": "code",
   "execution_count": 13,
   "metadata": {
    "ExecuteTime": {
     "end_time": "2021-03-18T08:37:02.653913Z",
     "start_time": "2021-03-18T08:37:02.485060Z"
    }
   },
   "outputs": [],
   "source": [
    "OOT = pd.read_csv('OOT.csv',index_col=0)"
   ]
  },
  {
   "cell_type": "code",
   "execution_count": 15,
   "metadata": {
    "ExecuteTime": {
     "end_time": "2021-03-18T08:37:48.775843Z",
     "start_time": "2021-03-18T08:37:48.762709Z"
    }
   },
   "outputs": [],
   "source": [
    "OOT_x = OOT.drop(columns='fraud_label',axis=1)"
   ]
  },
  {
   "cell_type": "code",
   "execution_count": 35,
   "metadata": {
    "ExecuteTime": {
     "end_time": "2021-03-18T08:46:05.412326Z",
     "start_time": "2021-03-18T08:46:05.405509Z"
    }
   },
   "outputs": [],
   "source": [
    "OOT_y = OOT[['fraud_label']]"
   ]
  },
  {
   "cell_type": "code",
   "execution_count": 67,
   "metadata": {
    "ExecuteTime": {
     "end_time": "2021-03-18T09:00:03.112360Z",
     "start_time": "2021-03-18T09:00:03.102614Z"
    }
   },
   "outputs": [
    {
     "data": {
      "text/plain": [
       "Index(['fraud_label', 'address_count_3', 'address_count_7', 'address_count_14',\n",
       "       'address_count_30', 'homephone_count_1', 'homephone_count_3',\n",
       "       'homephone_count_7', 'homephone_count_14', 'homephone_count_30',\n",
       "       'name_dob_day_since', 'name_dob_count_3', 'name_dob_count_7',\n",
       "       'name_dob_count_14', 'name_dob_count_30',\n",
       "       'fulladdress_homephone_day_since', 'name_dob_count_0_by_30',\n",
       "       'name_dob_count_1_by_30', 'fulladdress_homephone_count_0_by_7',\n",
       "       'fulladdress_homephone_count_0_by_14',\n",
       "       'fulladdress_homephone_count_0_by_30',\n",
       "       'fulladdress_homephone_count_1_by_30', 'ssn_firstname_count_0_by_7',\n",
       "       'ssn_firstname_count_0_by_14', 'ssn_firstname_count_0_by_30',\n",
       "       'ssn_lastname_count_0_by_7', 'ssn_lastname_count_0_by_14',\n",
       "       'ssn_lastname_count_0_by_30', 'ssn_dob_count_0_by_7',\n",
       "       'ssn_dob_count_0_by_14', 'ssn_dob_count_0_by_30'],\n",
       "      dtype='object')"
      ]
     },
     "execution_count": 67,
     "metadata": {},
     "output_type": "execute_result"
    }
   ],
   "source": [
    "df.columns"
   ]
  },
  {
   "cell_type": "code",
   "execution_count": 81,
   "metadata": {
    "ExecuteTime": {
     "end_time": "2021-03-18T09:02:41.801776Z",
     "start_time": "2021-03-18T09:02:41.650648Z"
    }
   },
   "outputs": [],
   "source": [
    "X = df[['address_count_3', 'address_count_7', 'address_count_14',\n",
    "       'address_count_30', 'homephone_count_1', 'homephone_count_3',\n",
    "       'homephone_count_7', 'homephone_count_14', 'homephone_count_30',\n",
    "       'name_dob_day_since','name_dob_count_3', 'name_dob_count_7',\n",
    "       'name_dob_count_14', 'name_dob_count_30',\n",
    "       'fulladdress_homephone_day_since', 'name_dob_count_0_by_30',\n",
    "       'name_dob_count_1_by_30', 'fulladdress_homephone_count_0_by_7',\n",
    "       'fulladdress_homephone_count_0_by_14',\n",
    "       'fulladdress_homephone_count_0_by_30',]]"
   ]
  },
  {
   "cell_type": "code",
   "execution_count": 82,
   "metadata": {
    "ExecuteTime": {
     "end_time": "2021-03-18T09:02:42.560371Z",
     "start_time": "2021-03-18T09:02:42.037799Z"
    }
   },
   "outputs": [],
   "source": [
    "X_train, X_test, y_train, y_test = train_test_split(X, y, test_size = 0.20,random_state = 1)"
   ]
  },
  {
   "cell_type": "code",
   "execution_count": 83,
   "metadata": {
    "ExecuteTime": {
     "end_time": "2021-03-18T09:02:50.798689Z",
     "start_time": "2021-03-18T09:02:42.582630Z"
    }
   },
   "outputs": [
    {
     "name": "stderr",
     "output_type": "stream",
     "text": [
      "/opt/anaconda3/lib/python3.7/site-packages/sklearn/utils/validation.py:63: DataConversionWarning: A column-vector y was passed when a 1d array was expected. Please change the shape of y to (n_samples, ), for example using ravel().\n",
      "  return f(*args, **kwargs)\n",
      "/opt/anaconda3/lib/python3.7/site-packages/sklearn/linear_model/_logistic.py:765: ConvergenceWarning: lbfgs failed to converge (status=1):\n",
      "STOP: TOTAL NO. of ITERATIONS REACHED LIMIT.\n",
      "\n",
      "Increase the number of iterations (max_iter) or scale the data as shown in:\n",
      "    https://scikit-learn.org/stable/modules/preprocessing.html\n",
      "Please also refer to the documentation for alternative solver options:\n",
      "    https://scikit-learn.org/stable/modules/linear_model.html#logistic-regression\n",
      "  extra_warning_msg=_LOGISTIC_SOLVER_CONVERGENCE_MSG)\n"
     ]
    },
    {
     "data": {
      "text/plain": [
       "LogisticRegression()"
      ]
     },
     "execution_count": 83,
     "metadata": {},
     "output_type": "execute_result"
    }
   ],
   "source": [
    "model = LogisticRegression()\n",
    "model.fit(X_train, y_train)"
   ]
  },
  {
   "cell_type": "code",
   "execution_count": null,
   "metadata": {},
   "outputs": [],
   "source": [
    "#test_score是预测准确的概率"
   ]
  },
  {
   "cell_type": "code",
   "execution_count": 84,
   "metadata": {
    "ExecuteTime": {
     "end_time": "2021-03-18T09:02:50.919564Z",
     "start_time": "2021-03-18T09:02:50.805937Z"
    }
   },
   "outputs": [],
   "source": [
    "y_pred=model.predict_proba(X_train)\n",
    "test_score=y_pred[:,0]"
   ]
  },
  {
   "cell_type": "code",
   "execution_count": 85,
   "metadata": {
    "ExecuteTime": {
     "end_time": "2021-03-18T09:02:50.965278Z",
     "start_time": "2021-03-18T09:02:50.930291Z"
    }
   },
   "outputs": [
    {
     "name": "stderr",
     "output_type": "stream",
     "text": [
      "/opt/anaconda3/lib/python3.7/site-packages/ipykernel_launcher.py:1: SettingWithCopyWarning: \n",
      "A value is trying to be set on a copy of a slice from a DataFrame.\n",
      "Try using .loc[row_indexer,col_indexer] = value instead\n",
      "\n",
      "See the caveats in the documentation: https://pandas.pydata.org/pandas-docs/stable/user_guide/indexing.html#returning-a-view-versus-a-copy\n",
      "  \"\"\"Entry point for launching an IPython kernel.\n",
      "/opt/anaconda3/lib/python3.7/site-packages/ipykernel_launcher.py:2: SettingWithCopyWarning: \n",
      "A value is trying to be set on a copy of a slice from a DataFrame.\n",
      "Try using .loc[row_indexer,col_indexer] = value instead\n",
      "\n",
      "See the caveats in the documentation: https://pandas.pydata.org/pandas-docs/stable/user_guide/indexing.html#returning-a-view-versus-a-copy\n",
      "  \n"
     ]
    }
   ],
   "source": [
    "X_train['fraud_label']=y_train['fraud_label']\n",
    "X_train['score']=test_score"
   ]
  },
  {
   "cell_type": "code",
   "execution_count": 86,
   "metadata": {
    "ExecuteTime": {
     "end_time": "2021-03-18T09:02:51.369234Z",
     "start_time": "2021-03-18T09:02:50.974864Z"
    }
   },
   "outputs": [
    {
     "data": {
      "text/plain": [
       "0.5140566659345487"
      ]
     },
     "execution_count": 86,
     "metadata": {},
     "output_type": "execute_result"
    }
   ],
   "source": [
    "numbads=len(y_train[y_train['fraud_label']==1])\n",
    "topRows = int(round(len(X_train)*0.03))\n",
    "temp = X_train[['score','fraud_label']].copy()\n",
    "temp0 = temp.sort_values('score',ascending=False)\n",
    "temp1 = temp0.head(topRows)\n",
    "temp2 = temp0.tail(topRows)\n",
    "needed1 = temp1.loc[:,'fraud_label']\n",
    "needed2 = temp2.loc[:,'fraud_label']\n",
    "FDR1 = sum(needed1)/numbads\n",
    "FDR2 = sum(needed2)/numbads\n",
    "FDRate = np.maximum(FDR1,FDR2)\n",
    "FDRate"
   ]
  },
  {
   "cell_type": "code",
   "execution_count": 87,
   "metadata": {
    "ExecuteTime": {
     "end_time": "2021-03-18T09:02:51.616047Z",
     "start_time": "2021-03-18T09:02:51.373121Z"
    }
   },
   "outputs": [
    {
     "name": "stderr",
     "output_type": "stream",
     "text": [
      "/opt/anaconda3/lib/python3.7/site-packages/ipykernel_launcher.py:3: SettingWithCopyWarning: \n",
      "A value is trying to be set on a copy of a slice from a DataFrame.\n",
      "Try using .loc[row_indexer,col_indexer] = value instead\n",
      "\n",
      "See the caveats in the documentation: https://pandas.pydata.org/pandas-docs/stable/user_guide/indexing.html#returning-a-view-versus-a-copy\n",
      "  This is separate from the ipykernel package so we can avoid doing imports until\n",
      "/opt/anaconda3/lib/python3.7/site-packages/ipykernel_launcher.py:4: SettingWithCopyWarning: \n",
      "A value is trying to be set on a copy of a slice from a DataFrame.\n",
      "Try using .loc[row_indexer,col_indexer] = value instead\n",
      "\n",
      "See the caveats in the documentation: https://pandas.pydata.org/pandas-docs/stable/user_guide/indexing.html#returning-a-view-versus-a-copy\n",
      "  after removing the cwd from sys.path.\n"
     ]
    },
    {
     "data": {
      "text/plain": [
       "0.5189075630252101"
      ]
     },
     "execution_count": 87,
     "metadata": {},
     "output_type": "execute_result"
    }
   ],
   "source": [
    "y_pred=model.predict_proba(X_test)\n",
    "test_score=y_pred[:,0]\n",
    "X_test['fraud_label']=y_test['fraud_label']\n",
    "X_test['score']=test_score\n",
    "numbads=len(y_test[y_test['fraud_label']==1])\n",
    "topRows = int(round(len(X_test)*0.03))\n",
    "temp = X_test[['score','fraud_label']].copy()\n",
    "temp0 = temp.sort_values('score',ascending=False)\n",
    "temp1 = temp0.head(topRows)\n",
    "temp2 = temp0.tail(topRows)\n",
    "needed1 = temp1.loc[:,'fraud_label']\n",
    "needed2 = temp2.loc[:,'fraud_label']\n",
    "FDR1 = sum(needed1)/numbads\n",
    "FDR2 = sum(needed2)/numbads\n",
    "FDRate = np.maximum(FDR1,FDR2)\n",
    "FDRate"
   ]
  },
  {
   "cell_type": "code",
   "execution_count": 49,
   "metadata": {
    "ExecuteTime": {
     "end_time": "2021-03-18T08:53:16.400975Z",
     "start_time": "2021-03-18T08:53:16.387935Z"
    }
   },
   "outputs": [],
   "source": [
    "#OOT_x = OOT_x.drop(columns=['fraud_label','score'],axis=1)"
   ]
  },
  {
   "cell_type": "code",
   "execution_count": 88,
   "metadata": {
    "ExecuteTime": {
     "end_time": "2021-03-18T09:02:53.896538Z",
     "start_time": "2021-03-18T09:02:53.886458Z"
    }
   },
   "outputs": [],
   "source": [
    "OOT_x = OOT[['address_count_3', 'address_count_7', 'address_count_14',\n",
    "       'address_count_30', 'homephone_count_1', 'homephone_count_3',\n",
    "       'homephone_count_7', 'homephone_count_14', 'homephone_count_30',\n",
    "       'name_dob_day_since','name_dob_count_3', 'name_dob_count_7',\n",
    "       'name_dob_count_14', 'name_dob_count_30',\n",
    "       'fulladdress_homephone_day_since', 'name_dob_count_0_by_30',\n",
    "       'name_dob_count_1_by_30', 'fulladdress_homephone_count_0_by_7',\n",
    "       'fulladdress_homephone_count_0_by_14',\n",
    "       'fulladdress_homephone_count_0_by_30',]]"
   ]
  },
  {
   "cell_type": "code",
   "execution_count": 89,
   "metadata": {
    "ExecuteTime": {
     "end_time": "2021-03-18T09:02:54.551246Z",
     "start_time": "2021-03-18T09:02:54.486665Z"
    }
   },
   "outputs": [
    {
     "name": "stderr",
     "output_type": "stream",
     "text": [
      "/opt/anaconda3/lib/python3.7/site-packages/ipykernel_launcher.py:3: SettingWithCopyWarning: \n",
      "A value is trying to be set on a copy of a slice from a DataFrame.\n",
      "Try using .loc[row_indexer,col_indexer] = value instead\n",
      "\n",
      "See the caveats in the documentation: https://pandas.pydata.org/pandas-docs/stable/user_guide/indexing.html#returning-a-view-versus-a-copy\n",
      "  This is separate from the ipykernel package so we can avoid doing imports until\n",
      "/opt/anaconda3/lib/python3.7/site-packages/ipykernel_launcher.py:4: SettingWithCopyWarning: \n",
      "A value is trying to be set on a copy of a slice from a DataFrame.\n",
      "Try using .loc[row_indexer,col_indexer] = value instead\n",
      "\n",
      "See the caveats in the documentation: https://pandas.pydata.org/pandas-docs/stable/user_guide/indexing.html#returning-a-view-versus-a-copy\n",
      "  after removing the cwd from sys.path.\n"
     ]
    },
    {
     "data": {
      "text/plain": [
       "0.46028513238289204"
      ]
     },
     "execution_count": 89,
     "metadata": {},
     "output_type": "execute_result"
    }
   ],
   "source": [
    "y_pred=model.predict_proba(OOT_x)\n",
    "test_score=y_pred[:,0]\n",
    "OOT_x['fraud_label']=OOT_y['fraud_label']\n",
    "OOT_x['score']=test_score\n",
    "numbads=len(OOT_x[OOT_x['fraud_label']==1])\n",
    "topRows = int(round(len(OOT_x)*0.03))\n",
    "\n",
    "temp = OOT_x[['score','fraud_label']].copy()\n",
    "temp0 = temp.sort_values('score',ascending=False)\n",
    "temp1 = temp0.head(topRows)\n",
    "temp2 = temp0.tail(topRows)\n",
    "needed1 = temp1.loc[:,'fraud_label']\n",
    "needed2 = temp2.loc[:,'fraud_label']\n",
    "FDR1 = sum(needed1)/numbads\n",
    "FDR2 = sum(needed2)/numbads\n",
    "FDRate = np.maximum(FDR1,FDR2)\n",
    "FDRate"
   ]
  },
  {
   "cell_type": "markdown",
   "metadata": {},
   "source": [
    "### Neural Net"
   ]
  },
  {
   "cell_type": "code",
   "execution_count": 1,
   "metadata": {
    "ExecuteTime": {
     "end_time": "2021-03-25T15:04:52.256919Z",
     "start_time": "2021-03-25T15:04:50.593100Z"
    }
   },
   "outputs": [],
   "source": [
    "from sklearn.neural_network import MLPClassifier"
   ]
  },
  {
   "cell_type": "code",
   "execution_count": 2,
   "metadata": {
    "ExecuteTime": {
     "end_time": "2021-03-25T15:04:52.516357Z",
     "start_time": "2021-03-25T15:04:52.272854Z"
    }
   },
   "outputs": [
    {
     "ename": "NameError",
     "evalue": "name 'pd' is not defined",
     "output_type": "error",
     "traceback": [
      "\u001b[0;31m---------------------------------------------------------------------------\u001b[0m",
      "\u001b[0;31mNameError\u001b[0m                                 Traceback (most recent call last)",
      "\u001b[0;32m<ipython-input-2-f8e80bd4d583>\u001b[0m in \u001b[0;36m<module>\u001b[0;34m\u001b[0m\n\u001b[0;32m----> 1\u001b[0;31m \u001b[0mdf\u001b[0m \u001b[0;34m=\u001b[0m \u001b[0mpd\u001b[0m\u001b[0;34m.\u001b[0m\u001b[0mread_csv\u001b[0m\u001b[0;34m(\u001b[0m\u001b[0;34m'top 30 variables.csv'\u001b[0m\u001b[0;34m,\u001b[0m\u001b[0mindex_col\u001b[0m\u001b[0;34m=\u001b[0m\u001b[0;36m0\u001b[0m\u001b[0;34m)\u001b[0m\u001b[0;34m\u001b[0m\u001b[0;34m\u001b[0m\u001b[0m\n\u001b[0m\u001b[1;32m      2\u001b[0m \u001b[0mX\u001b[0m \u001b[0;34m=\u001b[0m \u001b[0mdf\u001b[0m\u001b[0;34m.\u001b[0m\u001b[0mdrop\u001b[0m\u001b[0;34m(\u001b[0m\u001b[0mcolumns\u001b[0m\u001b[0;34m=\u001b[0m\u001b[0;34m'fraud_label'\u001b[0m\u001b[0;34m,\u001b[0m\u001b[0maxis\u001b[0m\u001b[0;34m=\u001b[0m\u001b[0;36m1\u001b[0m\u001b[0;34m)\u001b[0m\u001b[0;34m\u001b[0m\u001b[0;34m\u001b[0m\u001b[0m\n\u001b[1;32m      3\u001b[0m \u001b[0my\u001b[0m \u001b[0;34m=\u001b[0m \u001b[0mdf\u001b[0m\u001b[0;34m[\u001b[0m\u001b[0;34m[\u001b[0m\u001b[0;34m'fraud_label'\u001b[0m\u001b[0;34m]\u001b[0m\u001b[0;34m]\u001b[0m\u001b[0;34m\u001b[0m\u001b[0;34m\u001b[0m\u001b[0m\n",
      "\u001b[0;31mNameError\u001b[0m: name 'pd' is not defined"
     ]
    }
   ],
   "source": [
    "df = pd.read_csv('top 30 variables.csv',index_col=0)\n",
    "X = df.drop(columns='fraud_label',axis=1)\n",
    "y = df[['fraud_label']]"
   ]
  },
  {
   "cell_type": "code",
   "execution_count": 27,
   "metadata": {
    "ExecuteTime": {
     "end_time": "2021-03-18T09:40:46.326095Z",
     "start_time": "2021-03-18T09:40:46.316514Z"
    }
   },
   "outputs": [
    {
     "data": {
      "text/plain": [
       "Index(['address_count_3', 'address_count_7', 'address_count_14',\n",
       "       'address_count_30', 'homephone_count_1', 'homephone_count_3',\n",
       "       'homephone_count_7', 'homephone_count_14', 'homephone_count_30',\n",
       "       'name_dob_day_since', 'name_dob_count_3', 'name_dob_count_7',\n",
       "       'name_dob_count_14', 'name_dob_count_30',\n",
       "       'fulladdress_homephone_day_since', 'name_dob_count_0_by_30',\n",
       "       'name_dob_count_1_by_30', 'fulladdress_homephone_count_0_by_7',\n",
       "       'fulladdress_homephone_count_0_by_14',\n",
       "       'fulladdress_homephone_count_0_by_30',\n",
       "       'fulladdress_homephone_count_1_by_30', 'ssn_firstname_count_0_by_7',\n",
       "       'ssn_firstname_count_0_by_14', 'ssn_firstname_count_0_by_30',\n",
       "       'ssn_lastname_count_0_by_7', 'ssn_lastname_count_0_by_14',\n",
       "       'ssn_lastname_count_0_by_30', 'ssn_dob_count_0_by_7',\n",
       "       'ssn_dob_count_0_by_14', 'ssn_dob_count_0_by_30'],\n",
       "      dtype='object')"
      ]
     },
     "execution_count": 27,
     "metadata": {},
     "output_type": "execute_result"
    }
   ],
   "source": [
    "X.columns"
   ]
  },
  {
   "cell_type": "code",
   "execution_count": 43,
   "metadata": {
    "ExecuteTime": {
     "end_time": "2021-03-18T10:00:38.417397Z",
     "start_time": "2021-03-18T10:00:38.317861Z"
    }
   },
   "outputs": [],
   "source": [
    "X = df[['address_count_3', 'address_count_7', 'address_count_14',\n",
    "       'address_count_30', 'homephone_count_1', 'homephone_count_3',\n",
    "       'homephone_count_7', 'homephone_count_14', 'homephone_count_30',\n",
    "       'name_dob_day_since', 'name_dob_count_3', 'name_dob_count_7',\n",
    "       'name_dob_count_14', 'name_dob_count_30',\n",
    "       'fulladdress_homephone_day_since', 'name_dob_count_0_by_30',\n",
    "       'name_dob_count_1_by_30', 'fulladdress_homephone_count_0_by_7',\n",
    "       'fulladdress_homephone_count_0_by_14',\n",
    "       'fulladdress_homephone_count_0_by_30']]"
   ]
  },
  {
   "cell_type": "code",
   "execution_count": 5,
   "metadata": {
    "ExecuteTime": {
     "end_time": "2021-03-18T09:26:30.365597Z",
     "start_time": "2021-03-18T09:26:30.191644Z"
    }
   },
   "outputs": [],
   "source": [
    "OOT = pd.read_csv('OOT.csv',index_col=0)"
   ]
  },
  {
   "cell_type": "code",
   "execution_count": 6,
   "metadata": {
    "ExecuteTime": {
     "end_time": "2021-03-18T09:26:30.958876Z",
     "start_time": "2021-03-18T09:26:30.943615Z"
    }
   },
   "outputs": [],
   "source": [
    "OOT_x = OOT.drop(columns='fraud_label',axis=1)"
   ]
  },
  {
   "cell_type": "code",
   "execution_count": 7,
   "metadata": {
    "ExecuteTime": {
     "end_time": "2021-03-18T09:26:31.646345Z",
     "start_time": "2021-03-18T09:26:31.640660Z"
    }
   },
   "outputs": [],
   "source": [
    "OOT_y = OOT[['fraud_label']]"
   ]
  },
  {
   "cell_type": "code",
   "execution_count": 44,
   "metadata": {
    "ExecuteTime": {
     "end_time": "2021-03-18T10:00:41.050531Z",
     "start_time": "2021-03-18T10:00:40.570414Z"
    }
   },
   "outputs": [],
   "source": [
    "X_train, X_test, y_train, y_test = train_test_split(X, y, test_size = 0.20,random_state = 1)"
   ]
  },
  {
   "cell_type": "code",
   "execution_count": 45,
   "metadata": {
    "ExecuteTime": {
     "end_time": "2021-03-18T10:02:01.775684Z",
     "start_time": "2021-03-18T10:00:41.055753Z"
    }
   },
   "outputs": [
    {
     "name": "stderr",
     "output_type": "stream",
     "text": [
      "/opt/anaconda3/lib/python3.7/site-packages/sklearn/utils/validation.py:63: DataConversionWarning: A column-vector y was passed when a 1d array was expected. Please change the shape of y to (n_samples, ), for example using ravel().\n",
      "  return f(*args, **kwargs)\n"
     ]
    },
    {
     "data": {
      "text/plain": [
       "MLPClassifier(hidden_layer_sizes=10, n_iter_no_change=20)"
      ]
     },
     "execution_count": 45,
     "metadata": {},
     "output_type": "execute_result"
    }
   ],
   "source": [
    "model = MLPClassifier(n_iter_no_change=20,hidden_layer_sizes=(10))\n",
    "model.fit(X_train, y_train)"
   ]
  },
  {
   "cell_type": "code",
   "execution_count": 46,
   "metadata": {
    "ExecuteTime": {
     "end_time": "2021-03-18T10:02:02.655126Z",
     "start_time": "2021-03-18T10:02:01.781912Z"
    }
   },
   "outputs": [
    {
     "name": "stderr",
     "output_type": "stream",
     "text": [
      "/opt/anaconda3/lib/python3.7/site-packages/ipykernel_launcher.py:3: SettingWithCopyWarning: \n",
      "A value is trying to be set on a copy of a slice from a DataFrame.\n",
      "Try using .loc[row_indexer,col_indexer] = value instead\n",
      "\n",
      "See the caveats in the documentation: https://pandas.pydata.org/pandas-docs/stable/user_guide/indexing.html#returning-a-view-versus-a-copy\n",
      "  This is separate from the ipykernel package so we can avoid doing imports until\n",
      "/opt/anaconda3/lib/python3.7/site-packages/ipykernel_launcher.py:4: SettingWithCopyWarning: \n",
      "A value is trying to be set on a copy of a slice from a DataFrame.\n",
      "Try using .loc[row_indexer,col_indexer] = value instead\n",
      "\n",
      "See the caveats in the documentation: https://pandas.pydata.org/pandas-docs/stable/user_guide/indexing.html#returning-a-view-versus-a-copy\n",
      "  after removing the cwd from sys.path.\n"
     ]
    },
    {
     "data": {
      "text/plain": [
       "0.5634746321106963"
      ]
     },
     "execution_count": 46,
     "metadata": {},
     "output_type": "execute_result"
    }
   ],
   "source": [
    "y_pred=model.predict_proba(X_train)\n",
    "test_score=y_pred[:,0]\n",
    "X_train['fraud_label']=y_train['fraud_label']\n",
    "X_train['score']=test_score\n",
    "numbads=len(y_train[y_train['fraud_label']==1])\n",
    "topRows = int(round(len(X_train)*0.03))\n",
    "temp = X_train[['score','fraud_label']].copy()\n",
    "temp0 = temp.sort_values('score',ascending=False)\n",
    "temp1 = temp0.head(topRows)\n",
    "temp2 = temp0.tail(topRows)\n",
    "needed1 = temp1.loc[:,'fraud_label']\n",
    "needed2 = temp2.loc[:,'fraud_label']\n",
    "FDR1 = sum(needed1)/numbads\n",
    "FDR2 = sum(needed2)/numbads\n",
    "FDRate = np.maximum(FDR1,FDR2)\n",
    "FDRate"
   ]
  },
  {
   "cell_type": "code",
   "execution_count": 47,
   "metadata": {
    "ExecuteTime": {
     "end_time": "2021-03-18T10:02:02.952073Z",
     "start_time": "2021-03-18T10:02:02.660606Z"
    }
   },
   "outputs": [
    {
     "name": "stderr",
     "output_type": "stream",
     "text": [
      "/opt/anaconda3/lib/python3.7/site-packages/ipykernel_launcher.py:3: SettingWithCopyWarning: \n",
      "A value is trying to be set on a copy of a slice from a DataFrame.\n",
      "Try using .loc[row_indexer,col_indexer] = value instead\n",
      "\n",
      "See the caveats in the documentation: https://pandas.pydata.org/pandas-docs/stable/user_guide/indexing.html#returning-a-view-versus-a-copy\n",
      "  This is separate from the ipykernel package so we can avoid doing imports until\n",
      "/opt/anaconda3/lib/python3.7/site-packages/ipykernel_launcher.py:4: SettingWithCopyWarning: \n",
      "A value is trying to be set on a copy of a slice from a DataFrame.\n",
      "Try using .loc[row_indexer,col_indexer] = value instead\n",
      "\n",
      "See the caveats in the documentation: https://pandas.pydata.org/pandas-docs/stable/user_guide/indexing.html#returning-a-view-versus-a-copy\n",
      "  after removing the cwd from sys.path.\n"
     ]
    },
    {
     "data": {
      "text/plain": [
       "0.5638655462184874"
      ]
     },
     "execution_count": 47,
     "metadata": {},
     "output_type": "execute_result"
    }
   ],
   "source": [
    "y_pred=model.predict_proba(X_test)\n",
    "test_score=y_pred[:,0]\n",
    "X_test['fraud_label']=y_test['fraud_label']\n",
    "X_test['score']=test_score\n",
    "numbads=len(y_test[y_test['fraud_label']==1])\n",
    "topRows = int(round(len(X_test)*0.03))\n",
    "temp = X_test[['score','fraud_label']].copy()\n",
    "temp0 = temp.sort_values('score',ascending=False)\n",
    "temp1 = temp0.head(topRows)\n",
    "temp2 = temp0.tail(topRows)\n",
    "needed1 = temp1.loc[:,'fraud_label']\n",
    "needed2 = temp2.loc[:,'fraud_label']\n",
    "FDR1 = sum(needed1)/numbads\n",
    "FDR2 = sum(needed2)/numbads\n",
    "FDRate = np.maximum(FDR1,FDR2)\n",
    "FDRate"
   ]
  },
  {
   "cell_type": "code",
   "execution_count": 48,
   "metadata": {
    "ExecuteTime": {
     "end_time": "2021-03-18T10:02:02.973322Z",
     "start_time": "2021-03-18T10:02:02.956569Z"
    }
   },
   "outputs": [],
   "source": [
    "OOT_x = OOT[['address_count_3', 'address_count_7', 'address_count_14',\n",
    "       'address_count_30', 'homephone_count_1', 'homephone_count_3',\n",
    "       'homephone_count_7', 'homephone_count_14', 'homephone_count_30',\n",
    "       'name_dob_day_since', 'name_dob_count_3', 'name_dob_count_7',\n",
    "       'name_dob_count_14', 'name_dob_count_30',\n",
    "       'fulladdress_homephone_day_since', 'name_dob_count_0_by_30',\n",
    "       'name_dob_count_1_by_30', 'fulladdress_homephone_count_0_by_7',\n",
    "       'fulladdress_homephone_count_0_by_14',\n",
    "       'fulladdress_homephone_count_0_by_30']]\n",
    "OOT_y = OOT[['fraud_label']]"
   ]
  },
  {
   "cell_type": "code",
   "execution_count": 49,
   "metadata": {
    "ExecuteTime": {
     "end_time": "2021-03-18T10:02:03.078288Z",
     "start_time": "2021-03-18T10:02:02.977405Z"
    }
   },
   "outputs": [
    {
     "name": "stderr",
     "output_type": "stream",
     "text": [
      "/opt/anaconda3/lib/python3.7/site-packages/ipykernel_launcher.py:3: SettingWithCopyWarning: \n",
      "A value is trying to be set on a copy of a slice from a DataFrame.\n",
      "Try using .loc[row_indexer,col_indexer] = value instead\n",
      "\n",
      "See the caveats in the documentation: https://pandas.pydata.org/pandas-docs/stable/user_guide/indexing.html#returning-a-view-versus-a-copy\n",
      "  This is separate from the ipykernel package so we can avoid doing imports until\n",
      "/opt/anaconda3/lib/python3.7/site-packages/ipykernel_launcher.py:4: SettingWithCopyWarning: \n",
      "A value is trying to be set on a copy of a slice from a DataFrame.\n",
      "Try using .loc[row_indexer,col_indexer] = value instead\n",
      "\n",
      "See the caveats in the documentation: https://pandas.pydata.org/pandas-docs/stable/user_guide/indexing.html#returning-a-view-versus-a-copy\n",
      "  after removing the cwd from sys.path.\n"
     ]
    },
    {
     "data": {
      "text/plain": [
       "0.4725050916496945"
      ]
     },
     "execution_count": 49,
     "metadata": {},
     "output_type": "execute_result"
    }
   ],
   "source": [
    "y_pred=model.predict_proba(OOT_x)\n",
    "test_score=y_pred[:,0]\n",
    "OOT_x['fraud_label']=OOT_y['fraud_label']\n",
    "OOT_x['score']=test_score\n",
    "numbads=len(OOT_x[OOT_x['fraud_label']==1])\n",
    "topRows = int(round(len(OOT_x)*0.03))\n",
    "\n",
    "temp = OOT_x[['score','fraud_label']].copy()\n",
    "temp0 = temp.sort_values('score',ascending=False)\n",
    "temp1 = temp0.head(topRows)\n",
    "temp2 = temp0.tail(topRows)\n",
    "needed1 = temp1.loc[:,'fraud_label']\n",
    "needed2 = temp2.loc[:,'fraud_label']\n",
    "FDR1 = sum(needed1)/numbads\n",
    "FDR2 = sum(needed2)/numbads\n",
    "FDRate = np.maximum(FDR1,FDR2)\n",
    "FDRate"
   ]
  },
  {
   "cell_type": "markdown",
   "metadata": {},
   "source": [
    "## Boosted Tree"
   ]
  },
  {
   "cell_type": "code",
   "execution_count": 11,
   "metadata": {
    "ExecuteTime": {
     "end_time": "2021-03-25T15:10:57.304396Z",
     "start_time": "2021-03-25T15:10:57.183272Z"
    }
   },
   "outputs": [],
   "source": [
    "from sklearn.ensemble import GradientBoostingClassifier"
   ]
  },
  {
   "cell_type": "code",
   "execution_count": 12,
   "metadata": {
    "ExecuteTime": {
     "end_time": "2021-03-25T15:11:01.486579Z",
     "start_time": "2021-03-25T15:10:58.451388Z"
    }
   },
   "outputs": [],
   "source": [
    "df = pd.read_csv('top 30 variables.csv',index_col=0)\n",
    "X = df.drop(columns='fraud_label',axis=1)\n",
    "y = df[['fraud_label']]"
   ]
  },
  {
   "cell_type": "code",
   "execution_count": 13,
   "metadata": {
    "ExecuteTime": {
     "end_time": "2021-03-25T15:11:04.015461Z",
     "start_time": "2021-03-25T15:11:03.303282Z"
    }
   },
   "outputs": [],
   "source": [
    "X_train, X_test, y_train, y_test = train_test_split(X, y, test_size = 0.20,random_state = 1)"
   ]
  },
  {
   "cell_type": "code",
   "execution_count": 14,
   "metadata": {
    "ExecuteTime": {
     "end_time": "2021-03-25T15:16:15.937961Z",
     "start_time": "2021-03-25T15:11:12.249775Z"
    }
   },
   "outputs": [
    {
     "name": "stderr",
     "output_type": "stream",
     "text": [
      "/opt/anaconda3/lib/python3.7/site-packages/sklearn/utils/validation.py:63: DataConversionWarning: A column-vector y was passed when a 1d array was expected. Please change the shape of y to (n_samples, ), for example using ravel().\n",
      "  return f(*args, **kwargs)\n"
     ]
    },
    {
     "data": {
      "text/plain": [
       "GradientBoostingClassifier(learning_rate=0.01, max_depth=2, n_estimators=500)"
      ]
     },
     "execution_count": 14,
     "metadata": {},
     "output_type": "execute_result"
    }
   ],
   "source": [
    "model = GradientBoostingClassifier(n_estimators=500,max_depth=2,learning_rate=0.01)\n",
    "model.fit(X_train, y_train)"
   ]
  },
  {
   "cell_type": "code",
   "execution_count": 15,
   "metadata": {
    "ExecuteTime": {
     "end_time": "2021-03-25T15:16:20.934942Z",
     "start_time": "2021-03-25T15:16:15.944354Z"
    }
   },
   "outputs": [
    {
     "name": "stderr",
     "output_type": "stream",
     "text": [
      "/opt/anaconda3/lib/python3.7/site-packages/ipykernel_launcher.py:3: SettingWithCopyWarning: \n",
      "A value is trying to be set on a copy of a slice from a DataFrame.\n",
      "Try using .loc[row_indexer,col_indexer] = value instead\n",
      "\n",
      "See the caveats in the documentation: https://pandas.pydata.org/pandas-docs/stable/user_guide/indexing.html#returning-a-view-versus-a-copy\n",
      "  This is separate from the ipykernel package so we can avoid doing imports until\n",
      "/opt/anaconda3/lib/python3.7/site-packages/ipykernel_launcher.py:4: SettingWithCopyWarning: \n",
      "A value is trying to be set on a copy of a slice from a DataFrame.\n",
      "Try using .loc[row_indexer,col_indexer] = value instead\n",
      "\n",
      "See the caveats in the documentation: https://pandas.pydata.org/pandas-docs/stable/user_guide/indexing.html#returning-a-view-versus-a-copy\n",
      "  after removing the cwd from sys.path.\n"
     ]
    },
    {
     "data": {
      "text/plain": [
       "0.5537008565780804"
      ]
     },
     "execution_count": 15,
     "metadata": {},
     "output_type": "execute_result"
    }
   ],
   "source": [
    "y_pred=model.predict_proba(X_train)\n",
    "test_score=y_pred[:,0]\n",
    "X_train['fraud_label']=y_train['fraud_label']\n",
    "X_train['score']=test_score\n",
    "numbads=len(y_train[y_train['fraud_label']==1])\n",
    "topRows = int(round(len(X_train)*0.03))\n",
    "temp = X_train[['score','fraud_label']].copy()\n",
    "temp0 = temp.sort_values('score',ascending=False)\n",
    "temp1 = temp0.head(topRows)\n",
    "temp2 = temp0.tail(topRows)\n",
    "needed1 = temp1.loc[:,'fraud_label']\n",
    "needed2 = temp2.loc[:,'fraud_label']\n",
    "FDR1 = sum(needed1)/numbads\n",
    "FDR2 = sum(needed2)/numbads\n",
    "FDRate = np.maximum(FDR1,FDR2)\n",
    "FDRate"
   ]
  },
  {
   "cell_type": "code",
   "execution_count": 23,
   "metadata": {
    "ExecuteTime": {
     "end_time": "2021-03-25T15:18:42.560959Z",
     "start_time": "2021-03-25T15:18:42.545780Z"
    }
   },
   "outputs": [
    {
     "name": "stderr",
     "output_type": "stream",
     "text": [
      "/opt/anaconda3/lib/python3.7/site-packages/ipykernel_launcher.py:1: SettingWithCopyWarning: \n",
      "A value is trying to be set on a copy of a slice from a DataFrame.\n",
      "Try using .loc[row_indexer,col_indexer] = value instead\n",
      "\n",
      "See the caveats in the documentation: https://pandas.pydata.org/pandas-docs/stable/user_guide/indexing.html#returning-a-view-versus-a-copy\n",
      "  \"\"\"Entry point for launching an IPython kernel.\n"
     ]
    }
   ],
   "source": [
    "X_train['fraud_label'] = y_train"
   ]
  },
  {
   "cell_type": "code",
   "execution_count": 34,
   "metadata": {
    "ExecuteTime": {
     "end_time": "2021-03-25T15:21:59.232228Z",
     "start_time": "2021-03-25T15:21:58.936656Z"
    }
   },
   "outputs": [],
   "source": [
    "df_1 = X_train.sort_values(by='score').head(127199)"
   ]
  },
  {
   "cell_type": "code",
   "execution_count": 37,
   "metadata": {
    "ExecuteTime": {
     "end_time": "2021-03-25T15:22:37.140431Z",
     "start_time": "2021-03-25T15:22:37.133150Z"
    }
   },
   "outputs": [],
   "source": [
    "df_1 = df_1.head(6359)"
   ]
  },
  {
   "cell_type": "code",
   "execution_count": 20,
   "metadata": {
    "ExecuteTime": {
     "end_time": "2021-03-25T15:18:05.190839Z",
     "start_time": "2021-03-25T15:18:05.174041Z"
    }
   },
   "outputs": [
    {
     "data": {
      "text/html": [
       "<div>\n",
       "<style scoped>\n",
       "    .dataframe tbody tr th:only-of-type {\n",
       "        vertical-align: middle;\n",
       "    }\n",
       "\n",
       "    .dataframe tbody tr th {\n",
       "        vertical-align: top;\n",
       "    }\n",
       "\n",
       "    .dataframe thead th {\n",
       "        text-align: right;\n",
       "    }\n",
       "</style>\n",
       "<table border=\"1\" class=\"dataframe\">\n",
       "  <thead>\n",
       "    <tr style=\"text-align: right;\">\n",
       "      <th></th>\n",
       "      <th>fraud_label</th>\n",
       "    </tr>\n",
       "  </thead>\n",
       "  <tbody>\n",
       "    <tr>\n",
       "      <th>401750</th>\n",
       "      <td>0</td>\n",
       "    </tr>\n",
       "    <tr>\n",
       "      <th>494624</th>\n",
       "      <td>0</td>\n",
       "    </tr>\n",
       "    <tr>\n",
       "      <th>370093</th>\n",
       "      <td>0</td>\n",
       "    </tr>\n",
       "    <tr>\n",
       "      <th>95278</th>\n",
       "      <td>1</td>\n",
       "    </tr>\n",
       "    <tr>\n",
       "      <th>616734</th>\n",
       "      <td>0</td>\n",
       "    </tr>\n",
       "    <tr>\n",
       "      <th>...</th>\n",
       "      <td>...</td>\n",
       "    </tr>\n",
       "    <tr>\n",
       "      <th>529774</th>\n",
       "      <td>0</td>\n",
       "    </tr>\n",
       "    <tr>\n",
       "      <th>830135</th>\n",
       "      <td>0</td>\n",
       "    </tr>\n",
       "    <tr>\n",
       "      <th>509435</th>\n",
       "      <td>0</td>\n",
       "    </tr>\n",
       "    <tr>\n",
       "      <th>530266</th>\n",
       "      <td>0</td>\n",
       "    </tr>\n",
       "    <tr>\n",
       "      <th>166548</th>\n",
       "      <td>0</td>\n",
       "    </tr>\n",
       "  </tbody>\n",
       "</table>\n",
       "<p>635996 rows × 1 columns</p>\n",
       "</div>"
      ],
      "text/plain": [
       "        fraud_label\n",
       "401750            0\n",
       "494624            0\n",
       "370093            0\n",
       "95278             1\n",
       "616734            0\n",
       "...             ...\n",
       "529774            0\n",
       "830135            0\n",
       "509435            0\n",
       "530266            0\n",
       "166548            0\n",
       "\n",
       "[635996 rows x 1 columns]"
      ]
     },
     "execution_count": 20,
     "metadata": {},
     "output_type": "execute_result"
    }
   ],
   "source": [
    "y_train"
   ]
  },
  {
   "cell_type": "code",
   "execution_count": null,
   "metadata": {
    "ExecuteTime": {
     "end_time": "2021-03-25T15:16:20.991499Z",
     "start_time": "2021-03-25T15:12:02.056Z"
    }
   },
   "outputs": [],
   "source": [
    "y_pred=model.predict_proba(X_test)\n",
    "test_score=y_pred[:,0]\n",
    "X_test['fraud_label']=y_test['fraud_label']\n",
    "X_test['score']=test_score\n",
    "numbads=len(y_test[y_test['fraud_label']==1])\n",
    "topRows = int(round(len(X_test)*0.03))\n",
    "temp = X_test[['score','fraud_label']].copy()\n",
    "temp0 = temp.sort_values('score',ascending=False)\n",
    "temp1 = temp0.head(topRows)\n",
    "temp2 = temp0.tail(topRows)\n",
    "needed1 = temp1.loc[:,'fraud_label']\n",
    "needed2 = temp2.loc[:,'fraud_label']\n",
    "FDR1 = sum(needed1)/numbads\n",
    "FDR2 = sum(needed2)/numbads\n",
    "FDRate = np.maximum(FDR1,FDR2)\n",
    "FDRate"
   ]
  },
  {
   "cell_type": "code",
   "execution_count": 16,
   "metadata": {
    "ExecuteTime": {
     "end_time": "2021-03-25T15:16:20.982943Z",
     "start_time": "2021-03-25T15:16:20.957244Z"
    }
   },
   "outputs": [
    {
     "ename": "NameError",
     "evalue": "name 'OOT' is not defined",
     "output_type": "error",
     "traceback": [
      "\u001b[0;31m---------------------------------------------------------------------------\u001b[0m",
      "\u001b[0;31mNameError\u001b[0m                                 Traceback (most recent call last)",
      "\u001b[0;32m<ipython-input-16-adedce92a1da>\u001b[0m in \u001b[0;36m<module>\u001b[0;34m\u001b[0m\n\u001b[0;32m----> 1\u001b[0;31m \u001b[0mOOT_y\u001b[0m \u001b[0;34m=\u001b[0m \u001b[0mOOT\u001b[0m\u001b[0;34m[\u001b[0m\u001b[0;34m[\u001b[0m\u001b[0;34m'fraud_label'\u001b[0m\u001b[0;34m]\u001b[0m\u001b[0;34m]\u001b[0m\u001b[0;34m\u001b[0m\u001b[0;34m\u001b[0m\u001b[0m\n\u001b[0m",
      "\u001b[0;31mNameError\u001b[0m: name 'OOT' is not defined"
     ]
    }
   ],
   "source": [
    "OOT_y = OOT[['fraud_label']]"
   ]
  },
  {
   "cell_type": "code",
   "execution_count": null,
   "metadata": {
    "ExecuteTime": {
     "end_time": "2021-03-25T15:16:20.987774Z",
     "start_time": "2021-03-25T15:11:34.038Z"
    }
   },
   "outputs": [],
   "source": [
    "y_pred=model.predict_proba(OOT_x)\n",
    "test_score=y_pred[:,0]\n",
    "OOT_x['fraud_label']=OOT_y['fraud_label']\n",
    "OOT_x['score']=test_score\n",
    "numbads=len(OOT_x[OOT_x['fraud_label']==1])\n",
    "topRows = int(round(len(OOT_x)*0.03))\n",
    "\n",
    "temp = OOT_x[['score','fraud_label']].copy()\n",
    "temp0 = temp.sort_values('score',ascending=False)\n",
    "temp1 = temp0.head(topRows)\n",
    "temp2 = temp0.tail(topRows)\n",
    "needed1 = temp1.loc[:,'fraud_label']\n",
    "needed2 = temp2.loc[:,'fraud_label']\n",
    "FDR1 = sum(needed1)/numbads\n",
    "FDR2 = sum(needed2)/numbads\n",
    "FDRate = np.maximum(FDR1,FDR2)\n",
    "FDRate"
   ]
  },
  {
   "cell_type": "markdown",
   "metadata": {},
   "source": [
    "## Random Forest"
   ]
  },
  {
   "cell_type": "code",
   "execution_count": 77,
   "metadata": {
    "ExecuteTime": {
     "end_time": "2021-03-18T10:19:45.506006Z",
     "start_time": "2021-03-18T10:19:45.498961Z"
    }
   },
   "outputs": [],
   "source": [
    "from sklearn.ensemble import RandomForestClassifier"
   ]
  },
  {
   "cell_type": "code",
   "execution_count": 93,
   "metadata": {
    "ExecuteTime": {
     "end_time": "2021-03-18T10:30:44.719910Z",
     "start_time": "2021-03-18T10:30:44.712640Z"
    }
   },
   "outputs": [],
   "source": [
    "OOT_x = OOT.drop(columns='fraud_label',axis=1)"
   ]
  },
  {
   "cell_type": "code",
   "execution_count": 91,
   "metadata": {
    "ExecuteTime": {
     "end_time": "2021-03-18T10:30:35.191272Z",
     "start_time": "2021-03-18T10:30:32.057315Z"
    }
   },
   "outputs": [],
   "source": [
    "df = pd.read_csv('top 30 variables.csv',index_col=0)\n",
    "X = df.drop(columns='fraud_label',axis=1)\n",
    "y = df[['fraud_label']]"
   ]
  },
  {
   "cell_type": "code",
   "execution_count": 95,
   "metadata": {
    "ExecuteTime": {
     "end_time": "2021-03-18T10:30:57.043890Z",
     "start_time": "2021-03-18T10:30:56.488458Z"
    }
   },
   "outputs": [],
   "source": [
    "X_train, X_test, y_train, y_test = train_test_split(X, y, test_size = 0.20,random_state = 1)"
   ]
  },
  {
   "cell_type": "code",
   "execution_count": 96,
   "metadata": {
    "ExecuteTime": {
     "end_time": "2021-03-18T10:32:39.549229Z",
     "start_time": "2021-03-18T10:31:05.985172Z"
    }
   },
   "outputs": [
    {
     "name": "stderr",
     "output_type": "stream",
     "text": [
      "/opt/anaconda3/lib/python3.7/site-packages/ipykernel_launcher.py:2: DataConversionWarning: A column-vector y was passed when a 1d array was expected. Please change the shape of y to (n_samples,), for example using ravel().\n",
      "  \n"
     ]
    },
    {
     "data": {
      "text/plain": [
       "RandomForestClassifier(min_samples_leaf=3, n_jobs=10)"
      ]
     },
     "execution_count": 96,
     "metadata": {},
     "output_type": "execute_result"
    }
   ],
   "source": [
    "model = RandomForestClassifier(n_estimators=100,n_jobs=10,min_samples_leaf=3)\n",
    "model.fit(X_train, y_train)"
   ]
  },
  {
   "cell_type": "code",
   "execution_count": 97,
   "metadata": {
    "ExecuteTime": {
     "end_time": "2021-03-18T10:32:44.691735Z",
     "start_time": "2021-03-18T10:32:39.554586Z"
    }
   },
   "outputs": [
    {
     "name": "stderr",
     "output_type": "stream",
     "text": [
      "/opt/anaconda3/lib/python3.7/site-packages/ipykernel_launcher.py:3: SettingWithCopyWarning: \n",
      "A value is trying to be set on a copy of a slice from a DataFrame.\n",
      "Try using .loc[row_indexer,col_indexer] = value instead\n",
      "\n",
      "See the caveats in the documentation: https://pandas.pydata.org/pandas-docs/stable/user_guide/indexing.html#returning-a-view-versus-a-copy\n",
      "  This is separate from the ipykernel package so we can avoid doing imports until\n",
      "/opt/anaconda3/lib/python3.7/site-packages/ipykernel_launcher.py:4: SettingWithCopyWarning: \n",
      "A value is trying to be set on a copy of a slice from a DataFrame.\n",
      "Try using .loc[row_indexer,col_indexer] = value instead\n",
      "\n",
      "See the caveats in the documentation: https://pandas.pydata.org/pandas-docs/stable/user_guide/indexing.html#returning-a-view-versus-a-copy\n",
      "  after removing the cwd from sys.path.\n"
     ]
    },
    {
     "data": {
      "text/plain": [
       "0.6203602020645728"
      ]
     },
     "execution_count": 97,
     "metadata": {},
     "output_type": "execute_result"
    }
   ],
   "source": [
    "y_pred=model.predict_proba(X_train)\n",
    "test_score=y_pred[:,0]\n",
    "X_train['fraud_label']=y_train['fraud_label']\n",
    "X_train['score']=test_score\n",
    "numbads=len(y_train[y_train['fraud_label']==1])\n",
    "topRows = int(round(len(X_train)*0.03))\n",
    "temp = X_train[['score','fraud_label']].copy()\n",
    "temp0 = temp.sort_values('score',ascending=False)\n",
    "temp1 = temp0.head(topRows)\n",
    "temp2 = temp0.tail(topRows)\n",
    "needed1 = temp1.loc[:,'fraud_label']\n",
    "needed2 = temp2.loc[:,'fraud_label']\n",
    "FDR1 = sum(needed1)/numbads\n",
    "FDR2 = sum(needed2)/numbads\n",
    "FDRate = np.maximum(FDR1,FDR2)\n",
    "FDRate"
   ]
  },
  {
   "cell_type": "code",
   "execution_count": 98,
   "metadata": {
    "ExecuteTime": {
     "end_time": "2021-03-18T10:32:46.040704Z",
     "start_time": "2021-03-18T10:32:44.698727Z"
    }
   },
   "outputs": [
    {
     "name": "stderr",
     "output_type": "stream",
     "text": [
      "/opt/anaconda3/lib/python3.7/site-packages/ipykernel_launcher.py:3: SettingWithCopyWarning: \n",
      "A value is trying to be set on a copy of a slice from a DataFrame.\n",
      "Try using .loc[row_indexer,col_indexer] = value instead\n",
      "\n",
      "See the caveats in the documentation: https://pandas.pydata.org/pandas-docs/stable/user_guide/indexing.html#returning-a-view-versus-a-copy\n",
      "  This is separate from the ipykernel package so we can avoid doing imports until\n",
      "/opt/anaconda3/lib/python3.7/site-packages/ipykernel_launcher.py:4: SettingWithCopyWarning: \n",
      "A value is trying to be set on a copy of a slice from a DataFrame.\n",
      "Try using .loc[row_indexer,col_indexer] = value instead\n",
      "\n",
      "See the caveats in the documentation: https://pandas.pydata.org/pandas-docs/stable/user_guide/indexing.html#returning-a-view-versus-a-copy\n",
      "  after removing the cwd from sys.path.\n"
     ]
    },
    {
     "data": {
      "text/plain": [
       "0.569327731092437"
      ]
     },
     "execution_count": 98,
     "metadata": {},
     "output_type": "execute_result"
    }
   ],
   "source": [
    "y_pred=model.predict_proba(X_test)\n",
    "test_score=y_pred[:,0]\n",
    "X_test['fraud_label']=y_test['fraud_label']\n",
    "X_test['score']=test_score\n",
    "numbads=len(y_test[y_test['fraud_label']==1])\n",
    "topRows = int(round(len(X_test)*0.03))\n",
    "temp = X_test[['score','fraud_label']].copy()\n",
    "temp0 = temp.sort_values('score',ascending=False)\n",
    "temp1 = temp0.head(topRows)\n",
    "temp2 = temp0.tail(topRows)\n",
    "needed1 = temp1.loc[:,'fraud_label']\n",
    "needed2 = temp2.loc[:,'fraud_label']\n",
    "FDR1 = sum(needed1)/numbads\n",
    "FDR2 = sum(needed2)/numbads\n",
    "FDRate = np.maximum(FDR1,FDR2)\n",
    "FDRate"
   ]
  },
  {
   "cell_type": "code",
   "execution_count": 99,
   "metadata": {
    "ExecuteTime": {
     "end_time": "2021-03-18T10:32:46.058879Z",
     "start_time": "2021-03-18T10:32:46.045740Z"
    }
   },
   "outputs": [],
   "source": [
    "OOT_x = OOT.drop(columns='fraud_label',axis=1)\n",
    "OOT_y = OOT[['fraud_label']]"
   ]
  },
  {
   "cell_type": "code",
   "execution_count": 100,
   "metadata": {
    "ExecuteTime": {
     "end_time": "2021-03-18T10:32:46.437802Z",
     "start_time": "2021-03-18T10:32:46.062992Z"
    }
   },
   "outputs": [
    {
     "data": {
      "text/plain": [
       "0.47046843177189407"
      ]
     },
     "execution_count": 100,
     "metadata": {},
     "output_type": "execute_result"
    }
   ],
   "source": [
    "y_pred=model.predict_proba(OOT_x)\n",
    "test_score=y_pred[:,0]\n",
    "OOT_x['fraud_label']=OOT_y['fraud_label']\n",
    "OOT_x['score']=test_score\n",
    "numbads=len(OOT_x[OOT_x['fraud_label']==1])\n",
    "topRows = int(round(len(OOT_x)*0.03))\n",
    "\n",
    "temp = OOT_x[['score','fraud_label']].copy()\n",
    "temp0 = temp.sort_values('score',ascending=False)\n",
    "temp1 = temp0.head(topRows)\n",
    "temp2 = temp0.tail(topRows)\n",
    "needed1 = temp1.loc[:,'fraud_label']\n",
    "needed2 = temp2.loc[:,'fraud_label']\n",
    "FDR1 = sum(needed1)/numbads\n",
    "FDR2 = sum(needed2)/numbads\n",
    "FDRate = np.maximum(FDR1,FDR2)\n",
    "FDRate"
   ]
  },
  {
   "cell_type": "code",
   "execution_count": null,
   "metadata": {},
   "outputs": [],
   "source": []
  }
 ],
 "metadata": {
  "kernelspec": {
   "display_name": "Python 3",
   "language": "python",
   "name": "python3"
  },
  "language_info": {
   "codemirror_mode": {
    "name": "ipython",
    "version": 3
   },
   "file_extension": ".py",
   "mimetype": "text/x-python",
   "name": "python",
   "nbconvert_exporter": "python",
   "pygments_lexer": "ipython3",
   "version": "3.7.6"
  }
 },
 "nbformat": 4,
 "nbformat_minor": 4
}
